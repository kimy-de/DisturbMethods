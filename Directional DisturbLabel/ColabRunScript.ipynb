{
  "nbformat": 4,
  "nbformat_minor": 0,
  "metadata": {
    "colab": {
      "name": "ColabRunScript.ipynb",
      "provenance": []
    },
    "kernelspec": {
      "name": "python3",
      "display_name": "Python 3"
    },
    "accelerator": "GPU"
  },
  "cells": [
    {
      "cell_type": "markdown",
      "metadata": {
        "id": "gJj3icBVdp3J",
        "colab_type": "text"
      },
      "source": [
        "Script for running the codes in Google Colab. Copy the whole project into your Google Drive.\n",
        "\n",
        "Make sure that in Edit - Notebook settings GPU accelerator is selected if you are going to use ` --device=gpu`\n",
        "\n",
        "Output log and Tensordoard logs can be downloaded via the Files pane on the left."
      ]
    },
    {
      "cell_type": "code",
      "metadata": {
        "id": "-ZtmOYD0UjSQ",
        "colab_type": "code",
        "colab": {}
      },
      "source": [
        "from google.colab import drive\n",
        "drive.mount('/content/drive')\n",
        "#make sure to change the path to yours\n",
        "!ls \"/content/drive/My Drive/Colab Notebooks/disturblabel-master\""
      ],
      "execution_count": null,
      "outputs": []
    },
    {
      "cell_type": "code",
      "metadata": {
        "id": "4r_IVnv8U2iR",
        "colab_type": "code",
        "colab": {}
      },
      "source": [
        "!pip install torch torchvision\n",
        "!pip install tensorboardX"
      ],
      "execution_count": null,
      "outputs": []
    },
    {
      "cell_type": "code",
      "metadata": {
        "id": "P031FRgXVLR7",
        "colab_type": "code",
        "colab": {}
      },
      "source": [
        "!python \"/content/drive/My Drive/Colab Notebooks/disturblabel-master/main_ddl.py\"  #add arguments here"
      ],
      "execution_count": null,
      "outputs": []
    }
  ]
}
